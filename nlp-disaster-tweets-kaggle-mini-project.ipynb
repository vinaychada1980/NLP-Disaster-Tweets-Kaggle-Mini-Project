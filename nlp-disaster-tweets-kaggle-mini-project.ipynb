{
 "cells": [
  {
   "cell_type": "markdown",
   "id": "3355924e",
   "metadata": {
    "papermill": {
     "duration": 0.009351,
     "end_time": "2025-07-27T03:16:46.949714",
     "exception": false,
     "start_time": "2025-07-27T03:16:46.940363",
     "status": "completed"
    },
    "tags": []
   },
   "source": [
    "## Natural Language Processing with Disaster Tweets\n",
    "\n",
    "The challenge problem is a Natural Language Processing (NLP) task to build a machine learning model that predicts whether tweets are about real disasters or not. The model needs to distinguish between literal and metaphorical language used in tweets.\n",
    "The dataset consists of 10,000 hand-classified tweets. Each tweet is labeled as either about a real disaster (1) or not (0). The data likely includes text with varying language styles, slang, and potentially profane or offensive content. The task is evaluated using the F1 score, which considers true positives, false positives, and false negatives."
   ]
  },
  {
   "cell_type": "markdown",
   "id": "25a147d2",
   "metadata": {
    "execution": {
     "iopub.execute_input": "2025-07-19T00:38:01.656880Z",
     "iopub.status.busy": "2025-07-19T00:38:01.656263Z",
     "iopub.status.idle": "2025-07-19T00:38:01.661388Z",
     "shell.execute_reply": "2025-07-19T00:38:01.660508Z",
     "shell.execute_reply.started": "2025-07-19T00:38:01.656850Z"
    },
    "papermill": {
     "duration": 0.007851,
     "end_time": "2025-07-27T03:16:46.965896",
     "exception": false,
     "start_time": "2025-07-27T03:16:46.958045",
     "status": "completed"
    },
    "tags": []
   },
   "source": [
    "## Exploratory Data Analysis (EDA) — Inspect, Visualize and Clean the Data \n",
    "\n"
   ]
  },
  {
   "cell_type": "code",
   "execution_count": 1,
   "id": "35f2437f",
   "metadata": {
    "execution": {
     "iopub.execute_input": "2025-07-27T03:16:46.984094Z",
     "iopub.status.busy": "2025-07-27T03:16:46.983802Z",
     "iopub.status.idle": "2025-07-27T03:16:48.826493Z",
     "shell.execute_reply": "2025-07-27T03:16:48.825554Z"
    },
    "papermill": {
     "duration": 1.854027,
     "end_time": "2025-07-27T03:16:48.828045",
     "exception": false,
     "start_time": "2025-07-27T03:16:46.974018",
     "status": "completed"
    },
    "tags": []
   },
   "outputs": [
    {
     "name": "stdout",
     "output_type": "stream",
     "text": [
      "/kaggle/input/nlp-getting-started/sample_submission.csv\n",
      "/kaggle/input/nlp-getting-started/train.csv\n",
      "/kaggle/input/nlp-getting-started/test.csv\n"
     ]
    }
   ],
   "source": [
    "# This Python 3 environment comes with many helpful analytics libraries installed\n",
    "# It is defined by the kaggle/python Docker image: https://github.com/kaggle/docker-python\n",
    "# For example, here's several helpful packages to load\n",
    "\n",
    "import numpy as np # linear algebra\n",
    "import pandas as pd # data processing, CSV file I/O (e.g. pd.read_csv)\n",
    "\n",
    "# Input data files are available in the read-only \"../input/\" directory\n",
    "# For example, running this (by clicking run or pressing Shift+Enter) will list all files under the input directory\n",
    "\n",
    "import os\n",
    "for dirname, _, filenames in os.walk('/kaggle/input'):\n",
    "    for filename in filenames:\n",
    "        print(os.path.join(dirname, filename))\n",
    "\n",
    "# You can write up to 20GB to the current directory (/kaggle/working/) that gets preserved as output when you create a version using \"Save & Run All\" \n",
    "# You can also write temporary files to /kaggle/temp/, but they won't be saved outside of the current session"
   ]
  },
  {
   "cell_type": "markdown",
   "id": "5d69d466",
   "metadata": {
    "papermill": {
     "duration": 0.008005,
     "end_time": "2025-07-27T03:16:48.844646",
     "exception": false,
     "start_time": "2025-07-27T03:16:48.836641",
     "status": "completed"
    },
    "tags": []
   },
   "source": [
    "We will now load the train data and test data into separate variables."
   ]
  },
  {
   "cell_type": "code",
   "execution_count": 2,
   "id": "f5419043",
   "metadata": {
    "execution": {
     "iopub.execute_input": "2025-07-27T03:16:48.862531Z",
     "iopub.status.busy": "2025-07-27T03:16:48.862106Z",
     "iopub.status.idle": "2025-07-27T03:16:48.942571Z",
     "shell.execute_reply": "2025-07-27T03:16:48.941647Z"
    },
    "papermill": {
     "duration": 0.091374,
     "end_time": "2025-07-27T03:16:48.944244",
     "exception": false,
     "start_time": "2025-07-27T03:16:48.852870",
     "status": "completed"
    },
    "tags": []
   },
   "outputs": [],
   "source": [
    "df= pd.read_csv(\"/kaggle/input/nlp-getting-started/train.csv\")\n",
    "df_test = pd.read_csv(\"/kaggle/input/nlp-getting-started/test.csv\")"
   ]
  },
  {
   "cell_type": "markdown",
   "id": "a41a9264",
   "metadata": {
    "papermill": {
     "duration": 0.008012,
     "end_time": "2025-07-27T03:16:48.960698",
     "exception": false,
     "start_time": "2025-07-27T03:16:48.952686",
     "status": "completed"
    },
    "tags": []
   },
   "source": [
    "We will take a peak at sample values to see how this data set looks like:"
   ]
  },
  {
   "cell_type": "code",
   "execution_count": 3,
   "id": "1959ef6d",
   "metadata": {
    "execution": {
     "iopub.execute_input": "2025-07-27T03:16:48.978132Z",
     "iopub.status.busy": "2025-07-27T03:16:48.977817Z",
     "iopub.status.idle": "2025-07-27T03:16:49.013402Z",
     "shell.execute_reply": "2025-07-27T03:16:49.012516Z"
    },
    "papermill": {
     "duration": 0.046096,
     "end_time": "2025-07-27T03:16:49.014841",
     "exception": false,
     "start_time": "2025-07-27T03:16:48.968745",
     "status": "completed"
    },
    "tags": []
   },
   "outputs": [
    {
     "name": "stdout",
     "output_type": "stream",
     "text": [
      "<class 'pandas.core.frame.DataFrame'>\n",
      "RangeIndex: 7613 entries, 0 to 7612\n",
      "Data columns (total 5 columns):\n",
      " #   Column    Non-Null Count  Dtype \n",
      "---  ------    --------------  ----- \n",
      " 0   id        7613 non-null   int64 \n",
      " 1   keyword   7552 non-null   object\n",
      " 2   location  5080 non-null   object\n",
      " 3   text      7613 non-null   object\n",
      " 4   target    7613 non-null   int64 \n",
      "dtypes: int64(2), object(3)\n",
      "memory usage: 297.5+ KB\n"
     ]
    },
    {
     "data": {
      "text/plain": [
       "array([\"I'm an emotional wreck right now.\",\n",
       "       '@JakeGint the mass murder got her hot and bothered but at heart she was always a traditionalist.',\n",
       "       'I just wanted to watch Paper Towns but the buildings on fire ?????',\n",
       "       \"'Dangerous' property in downtown Phoenix demolished  http://t.co/hiBDw7d7ja\",\n",
       "       'Slums are a manifestation state failure to provide housing to citizens. Illegality discourse confounds structural problems. #stopevictions'],\n",
       "      dtype=object)"
      ]
     },
     "execution_count": 3,
     "metadata": {},
     "output_type": "execute_result"
    }
   ],
   "source": [
    "df.head()\n",
    "df.info()\n",
    "df['text'].sample(5).values"
   ]
  },
  {
   "cell_type": "markdown",
   "id": "f99db274",
   "metadata": {
    "papermill": {
     "duration": 0.008528,
     "end_time": "2025-07-27T03:16:49.031759",
     "exception": false,
     "start_time": "2025-07-27T03:16:49.023231",
     "status": "completed"
    },
    "tags": []
   },
   "source": [
    "We will now look for null or missing entries:"
   ]
  },
  {
   "cell_type": "code",
   "execution_count": 4,
   "id": "d99c87e9",
   "metadata": {
    "execution": {
     "iopub.execute_input": "2025-07-27T03:16:49.049435Z",
     "iopub.status.busy": "2025-07-27T03:16:49.049106Z",
     "iopub.status.idle": "2025-07-27T03:16:49.057380Z",
     "shell.execute_reply": "2025-07-27T03:16:49.056682Z"
    },
    "papermill": {
     "duration": 0.018699,
     "end_time": "2025-07-27T03:16:49.058726",
     "exception": false,
     "start_time": "2025-07-27T03:16:49.040027",
     "status": "completed"
    },
    "tags": []
   },
   "outputs": [
    {
     "data": {
      "text/plain": [
       "id             0\n",
       "keyword       61\n",
       "location    2533\n",
       "text           0\n",
       "target         0\n",
       "dtype: int64"
      ]
     },
     "execution_count": 4,
     "metadata": {},
     "output_type": "execute_result"
    }
   ],
   "source": [
    "df.isnull().sum()"
   ]
  },
  {
   "cell_type": "markdown",
   "id": "35282bd6",
   "metadata": {
    "papermill": {
     "duration": 0.008011,
     "end_time": "2025-07-27T03:16:49.075062",
     "exception": false,
     "start_time": "2025-07-27T03:16:49.067051",
     "status": "completed"
    },
    "tags": []
   },
   "source": [
    "We will now try to understand class distribution:"
   ]
  },
  {
   "cell_type": "code",
   "execution_count": 5,
   "id": "e94dd4ce",
   "metadata": {
    "execution": {
     "iopub.execute_input": "2025-07-27T03:16:49.093053Z",
     "iopub.status.busy": "2025-07-27T03:16:49.092765Z",
     "iopub.status.idle": "2025-07-27T03:16:49.435254Z",
     "shell.execute_reply": "2025-07-27T03:16:49.434382Z"
    },
    "papermill": {
     "duration": 0.353499,
     "end_time": "2025-07-27T03:16:49.436865",
     "exception": false,
     "start_time": "2025-07-27T03:16:49.083366",
     "status": "completed"
    },
    "tags": []
   },
   "outputs": [
    {
     "data": {
      "text/plain": [
       "<Axes: xlabel='target'>"
      ]
     },
     "execution_count": 5,
     "metadata": {},
     "output_type": "execute_result"
    },
    {
     "data": {
      "image/png": "[encoded data removed]",
      "text/plain": [
       "<Figure size 640x480 with 1 Axes>"
      ]
     },
     "metadata": {},
     "output_type": "display_data"
    }
   ],
   "source": [
    "df['target'].value_counts().plot(kind='bar')"
   ]
  },
  {
   "cell_type": "markdown",
   "id": "5d41a236",
   "metadata": {
    "papermill": {
     "duration": 0.008506,
     "end_time": "2025-07-27T03:16:49.454282",
     "exception": false,
     "start_time": "2025-07-27T03:16:49.445776",
     "status": "completed"
    },
    "tags": []
   },
   "source": [
    "We will now check for document lengths of tokens and characters:"
   ]
  },
  {
   "cell_type": "code",
   "execution_count": 6,
   "id": "91d21a76",
   "metadata": {
    "execution": {
     "iopub.execute_input": "2025-07-27T03:16:49.473016Z",
     "iopub.status.busy": "2025-07-27T03:16:49.472718Z",
     "iopub.status.idle": "2025-07-27T03:16:49.486865Z",
     "shell.execute_reply": "2025-07-27T03:16:49.486137Z"
    },
    "papermill": {
     "duration": 0.02519,
     "end_time": "2025-07-27T03:16:49.488128",
     "exception": false,
     "start_time": "2025-07-27T03:16:49.462938",
     "status": "completed"
    },
    "tags": []
   },
   "outputs": [
    {
     "data": {
      "text/plain": [
       "count    7613.000000\n",
       "mean      101.037436\n",
       "std        33.781325\n",
       "min         7.000000\n",
       "25%        78.000000\n",
       "50%       107.000000\n",
       "75%       133.000000\n",
       "max       157.000000\n",
       "Name: text_length, dtype: float64"
      ]
     },
     "execution_count": 6,
     "metadata": {},
     "output_type": "execute_result"
    }
   ],
   "source": [
    "df['text_length'] = df['text'].apply(len)\n",
    "df['text_length'].describe()"
   ]
  },
  {
   "cell_type": "markdown",
   "id": "ea7086c2",
   "metadata": {
    "execution": {
     "iopub.execute_input": "2025-07-19T06:39:44.857925Z",
     "iopub.status.busy": "2025-07-19T06:39:44.857329Z",
     "iopub.status.idle": "2025-07-19T06:39:44.863209Z",
     "shell.execute_reply": "2025-07-19T06:39:44.862136Z",
     "shell.execute_reply.started": "2025-07-19T06:39:44.857898Z"
    },
    "papermill": {
     "duration": 0.014347,
     "end_time": "2025-07-27T03:16:49.512976",
     "exception": false,
     "start_time": "2025-07-27T03:16:49.498629",
     "status": "completed"
    },
    "tags": []
   },
   "source": [
    "Here are word frequency plots:"
   ]
  },
  {
   "cell_type": "code",
   "execution_count": 7,
   "id": "8af70e20",
   "metadata": {
    "execution": {
     "iopub.execute_input": "2025-07-27T03:16:49.536128Z",
     "iopub.status.busy": "2025-07-27T03:16:49.535093Z",
     "iopub.status.idle": "2025-07-27T03:16:49.591859Z",
     "shell.execute_reply": "2025-07-27T03:16:49.590981Z"
    },
    "papermill": {
     "duration": 0.07146,
     "end_time": "2025-07-27T03:16:49.593887",
     "exception": false,
     "start_time": "2025-07-27T03:16:49.522427",
     "status": "completed"
    },
    "tags": []
   },
   "outputs": [
    {
     "data": {
      "text/plain": [
       "[('the', 2575),\n",
       " ('a', 1845),\n",
       " ('to', 1805),\n",
       " ('in', 1757),\n",
       " ('of', 1722),\n",
       " ('and', 1302),\n",
       " ('I', 1197),\n",
       " ('for', 820),\n",
       " ('is', 814),\n",
       " ('on', 773),\n",
       " ('-', 763),\n",
       " ('you', 632),\n",
       " ('The', 552),\n",
       " ('my', 549),\n",
       " ('with', 508),\n",
       " ('that', 492),\n",
       " ('at', 485),\n",
       " ('by', 469),\n",
       " ('it', 433),\n",
       " ('from', 372)]"
      ]
     },
     "execution_count": 7,
     "metadata": {},
     "output_type": "execute_result"
    }
   ],
   "source": [
    "from collections import Counter\n",
    "Counter(\" \".join(df['text']).split()).most_common(20)"
   ]
  },
  {
   "cell_type": "markdown",
   "id": "b38ee5f3",
   "metadata": {
    "papermill": {
     "duration": 0.012943,
     "end_time": "2025-07-27T03:16:49.688412",
     "exception": false,
     "start_time": "2025-07-27T03:16:49.675469",
     "status": "completed"
    },
    "tags": []
   },
   "source": [
    "Here is the text length distribution:"
   ]
  },
  {
   "cell_type": "code",
   "execution_count": 8,
   "id": "71e56ae5",
   "metadata": {
    "execution": {
     "iopub.execute_input": "2025-07-27T03:16:49.712636Z",
     "iopub.status.busy": "2025-07-27T03:16:49.712354Z",
     "iopub.status.idle": "2025-07-27T03:16:49.896215Z",
     "shell.execute_reply": "2025-07-27T03:16:49.895380Z"
    },
    "papermill": {
     "duration": 0.195259,
     "end_time": "2025-07-27T03:16:49.897612",
     "exception": false,
     "start_time": "2025-07-27T03:16:49.702353",
     "status": "completed"
    },
    "tags": []
   },
   "outputs": [
    {
     "data": {
      "text/plain": [
       "<Axes: >"
      ]
     },
     "execution_count": 8,
     "metadata": {},
     "output_type": "execute_result"
    },
    {
     "data": {
      "image/png": "[encoded data removed]",
      "text/plain": [
       "<Figure size 640x480 with 1 Axes>"
      ]
     },
     "metadata": {},
     "output_type": "display_data"
    }
   ],
   "source": [
    "df['text'].apply(lambda x: len(x.split())).hist()"
   ]
  },
  {
   "cell_type": "markdown",
   "id": "83e1e7f8",
   "metadata": {
    "papermill": {
     "duration": 0.009748,
     "end_time": "2025-07-27T03:16:49.916855",
     "exception": false,
     "start_time": "2025-07-27T03:16:49.907107",
     "status": "completed"
    },
    "tags": []
   },
   "source": [
    "Finally, we will show label-wise word frequency visualization"
   ]
  },
  {
   "cell_type": "code",
   "execution_count": 9,
   "id": "2c8e378b",
   "metadata": {
    "execution": {
     "iopub.execute_input": "2025-07-27T03:16:49.936777Z",
     "iopub.status.busy": "2025-07-27T03:16:49.936420Z",
     "iopub.status.idle": "2025-07-27T03:16:52.285035Z",
     "shell.execute_reply": "2025-07-27T03:16:52.284222Z"
    },
    "papermill": {
     "duration": 2.360389,
     "end_time": "2025-07-27T03:16:52.286517",
     "exception": false,
     "start_time": "2025-07-27T03:16:49.926128",
     "status": "completed"
    },
    "tags": []
   },
   "outputs": [
    {
     "data": {
      "image/png": "[encoded data removed]",
      "text/plain": [
       "<Figure size 1200x600 with 1 Axes>"
      ]
     },
     "metadata": {},
     "output_type": "display_data"
    }
   ],
   "source": [
    "# Import necessary libraries\n",
    "import pandas as pd\n",
    "import matplotlib.pyplot as plt\n",
    "from collections import Counter\n",
    "import seaborn as sns\n",
    "import re\n",
    "\n",
    "# Function to preprocess text: lowercase and remove punctuation/non-letter characters\n",
    "def preprocess(text):\n",
    "    text = text.lower()  # Convert to lowercase\n",
    "    text = re.sub(r'[^a-z\\s]', '', text)  # Remove anything that's not a letter or space\n",
    "    return text.split()  # Tokenize the text into a list of words\n",
    "\n",
    "# Dictionary to store word frequency per target class\n",
    "word_counts = {}\n",
    "\n",
    "# Loop through each unique class in the target column\n",
    "for target in df['target'].unique():\n",
    "    # Apply preprocessing to all text rows belonging to the current class\n",
    "    texts = df[df['target'] == target]['text'].apply(preprocess)\n",
    "    \n",
    "    # Flatten the list of lists into a single list of all words for this class\n",
    "    all_words = [word for tokens in texts for word in tokens]\n",
    "    \n",
    "    # Count the top 10 most common words for this class\n",
    "    word_counts[target] = Counter(all_words).most_common(10)\n",
    "\n",
    "# Prepare data for plotting\n",
    "plot_data = []\n",
    "for target, words in word_counts.items():\n",
    "    for word, count in words:\n",
    "        plot_data.append({'target': target, 'word': word, 'count': count})\n",
    "\n",
    "# Convert to DataFrame for visualization\n",
    "plot_df = pd.DataFrame(plot_data)\n",
    "\n",
    "# Plot the top words per class using seaborn barplot\n",
    "plt.figure(figsize=(12, 6))\n",
    "sns.barplot(data=plot_df, x='word', y='count', hue='target')  # Different hue per target class\n",
    "plt.title('Top Words per Target Class')\n",
    "plt.xticks(rotation=45)  # Rotate x-axis labels for readability\n",
    "plt.tight_layout()\n",
    "plt.show()\n"
   ]
  },
  {
   "cell_type": "markdown",
   "id": "d25b5fff",
   "metadata": {
    "papermill": {
     "duration": 0.010623,
     "end_time": "2025-07-27T03:16:52.308516",
     "exception": false,
     "start_time": "2025-07-27T03:16:52.297893",
     "status": "completed"
    },
    "tags": []
   },
   "source": [
    "For data cleaning, we will fill missing values with empty string:"
   ]
  },
  {
   "cell_type": "code",
   "execution_count": 10,
   "id": "e4d6dfe5",
   "metadata": {
    "execution": {
     "iopub.execute_input": "2025-07-27T03:16:52.329896Z",
     "iopub.status.busy": "2025-07-27T03:16:52.329498Z",
     "iopub.status.idle": "2025-07-27T03:16:52.336499Z",
     "shell.execute_reply": "2025-07-27T03:16:52.335654Z"
    },
    "papermill": {
     "duration": 0.019187,
     "end_time": "2025-07-27T03:16:52.337993",
     "exception": false,
     "start_time": "2025-07-27T03:16:52.318806",
     "status": "completed"
    },
    "tags": []
   },
   "outputs": [],
   "source": [
    "df[\"text\"] = df[\"text\"].fillna(\"\")\n",
    "df_test[\"text\"] = df_test[\"text\"].fillna(\"\")"
   ]
  },
  {
   "cell_type": "markdown",
   "id": "ff2c0308",
   "metadata": {
    "papermill": {
     "duration": 0.010187,
     "end_time": "2025-07-27T03:16:52.358443",
     "exception": false,
     "start_time": "2025-07-27T03:16:52.348256",
     "status": "completed"
    },
    "tags": []
   },
   "source": [
    "We will also make all the text lowercase:"
   ]
  },
  {
   "cell_type": "code",
   "execution_count": 11,
   "id": "0f7b5fa1",
   "metadata": {
    "execution": {
     "iopub.execute_input": "2025-07-27T03:16:52.381106Z",
     "iopub.status.busy": "2025-07-27T03:16:52.380764Z",
     "iopub.status.idle": "2025-07-27T03:16:52.390009Z",
     "shell.execute_reply": "2025-07-27T03:16:52.389209Z"
    },
    "papermill": {
     "duration": 0.022671,
     "end_time": "2025-07-27T03:16:52.391481",
     "exception": false,
     "start_time": "2025-07-27T03:16:52.368810",
     "status": "completed"
    },
    "tags": []
   },
   "outputs": [],
   "source": [
    "df['text'] = df['text'].str.lower()"
   ]
  },
  {
   "cell_type": "markdown",
   "id": "1b67888a",
   "metadata": {
    "papermill": {
     "duration": 0.009817,
     "end_time": "2025-07-27T03:16:52.411919",
     "exception": false,
     "start_time": "2025-07-27T03:16:52.402102",
     "status": "completed"
    },
    "tags": []
   },
   "source": [
    "## Model Architecture\n",
    "\n",
    "TF-IDF, or Term Frequency-Inverse Document Frequency, converts words into numerical features based on their importance in a document compared to a larger collection. It balances two factors: Term Frequency (TF), which measures how often a word appears, and Inverse Document Frequency (IDF), which reduces the weight of overly common words like \"the\" and \"and\" that don't add much meaning.\n",
    "\n",
    "We will now convert the text to TD-IDF features:"
   ]
  },
  {
   "cell_type": "code",
   "execution_count": 12,
   "id": "8f1385f9",
   "metadata": {
    "execution": {
     "iopub.execute_input": "2025-07-27T03:16:52.433284Z",
     "iopub.status.busy": "2025-07-27T03:16:52.432953Z",
     "iopub.status.idle": "2025-07-27T03:16:53.464935Z",
     "shell.execute_reply": "2025-07-27T03:16:53.463943Z"
    },
    "papermill": {
     "duration": 1.044729,
     "end_time": "2025-07-27T03:16:53.466690",
     "exception": false,
     "start_time": "2025-07-27T03:16:52.421961",
     "status": "completed"
    },
    "tags": []
   },
   "outputs": [],
   "source": [
    "# Import required modules for train-test split and TF-IDF vectorization\n",
    "from sklearn.model_selection import train_test_split\n",
    "from sklearn.feature_extraction.text import TfidfVectorizer\n",
    "\n",
    "# Create a TF-IDF vectorizer with a maximum of 5000 features (most important words)\n",
    "tfidf = TfidfVectorizer(max_features=5000)\n",
    "\n",
    "# Fit the TF-IDF vectorizer on the training text and transform it into a feature matrix\n",
    "# This converts the text documents into numerical vectors\n",
    "X_train_tfidf = tfidf.fit_transform(df['text']).toarray()\n",
    "\n",
    "# Transform the test text using the same vectorizer (do NOT fit again)\n",
    "X_test_tfidf = tfidf.transform(df_test['text']).toarray()\n",
    "\n",
    "# Extract the target variable (labels) from the training data\n",
    "y_train = df['target']"
   ]
  },
  {
   "cell_type": "markdown",
   "id": "bd246d90",
   "metadata": {
    "papermill": {
     "duration": 0.0099,
     "end_time": "2025-07-27T03:16:53.486705",
     "exception": false,
     "start_time": "2025-07-27T03:16:53.476805",
     "status": "completed"
    },
    "tags": []
   },
   "source": [
    "Explanation of Model Architecture: Our chosen model architecture is a Sequential model that incorporates an LSTM layer. LSTM (Long Short-Term Memory) networks are particularly effective for handling sequence data due to their ability to maintain context over extended periods. While TF-IDF (Term Frequency-Inverse Document Frequency) eliminates the consideration of word order, combining LSTM with embeddings such as Word2Vec or GloVe can enhance the preservation of context. However, for the sake of simplicity in this instance, we have opted to use TF-IDF.\n",
    "\n",
    "We will consider this the base model."
   ]
  },
  {
   "cell_type": "code",
   "execution_count": 13,
   "id": "ee14f6f2",
   "metadata": {
    "execution": {
     "iopub.execute_input": "2025-07-27T03:16:53.507745Z",
     "iopub.status.busy": "2025-07-27T03:16:53.507466Z",
     "iopub.status.idle": "2025-07-27T03:17:10.433478Z",
     "shell.execute_reply": "2025-07-27T03:17:10.432578Z"
    },
    "papermill": {
     "duration": 16.938301,
     "end_time": "2025-07-27T03:17:10.434812",
     "exception": false,
     "start_time": "2025-07-27T03:16:53.496511",
     "status": "completed"
    },
    "tags": []
   },
   "outputs": [
    {
     "name": "stderr",
     "output_type": "stream",
     "text": [
      "2025-07-27 03:16:55.519303: E external/local_xla/xla/stream_executor/cuda/cuda_fft.cc:477] Unable to register cuFFT factory: Attempting to register factory for plugin cuFFT when one has already been registered\n",
      "WARNING: All log messages before absl::InitializeLog() is called are written to STDERR\n",
      "E0000 00:00:1753586215.772428      13 cuda_dnn.cc:8310] Unable to register cuDNN factory: Attempting to register factory for plugin cuDNN when one has already been registered\n",
      "E0000 00:00:1753586215.845698      13 cuda_blas.cc:1418] Unable to register cuBLAS factory: Attempting to register factory for plugin cuBLAS when one has already been registered\n",
      "2025-07-27 03:17:10.313086: E external/local_xla/xla/stream_executor/cuda/cuda_driver.cc:152] failed call to cuInit: INTERNAL: CUDA error: Failed call to cuInit: UNKNOWN ERROR (303)\n",
      "/usr/local/lib/python3.11/dist-packages/keras/src/layers/rnn/rnn.py:200: UserWarning: Do not pass an `input_shape`/`input_dim` argument to a layer. When using Sequential models, prefer using an `Input(shape)` object as the first layer in the model instead.\n",
      "  super().__init__(**kwargs)\n"
     ]
    }
   ],
   "source": [
    "# Import required libraries\n",
    "import numpy as np\n",
    "import tensorflow as tf\n",
    "from tensorflow.keras.models import Sequential\n",
    "from tensorflow.keras.layers import Dense, Dropout, LSTM\n",
    "\n",
    "# Reshape TF-IDF data to fit the LSTM input format:\n",
    "# LSTM expects input shape of (samples, timesteps, features)\n",
    "# We treat each TF-IDF feature vector as a sequence of words (timesteps),\n",
    "# where each timestep has 1 feature (TF-IDF value)\n",
    "X_train_lstm = X_train_tfidf.reshape(X_train_tfidf.shape[0], X_train_tfidf.shape[1], 1)\n",
    "\n",
    "# Initialize a Sequential model\n",
    "model = Sequential()\n",
    "\n",
    "# Add an LSTM layer with 64 units\n",
    "# input_shape = (number of timesteps, number of features per timestep)\n",
    "model.add(LSTM(64, input_shape=(X_train_lstm.shape[1], 1)))\n",
    "\n",
    "# Add dropout to reduce overfitting\n",
    "model.add(Dropout(0.5))\n",
    "\n",
    "# Output layer with sigmoid activation for binary classification\n",
    "model.add(Dense(1, activation='sigmoid'))\n",
    "\n",
    "# Compile the model using binary crossentropy loss for binary classification\n",
    "# Adam optimizer is commonly used and adapts learning rates\n",
    "# Accuracy is used as the evaluation metric\n",
    "model.compile(loss='binary_crossentropy', optimizer='adam', metrics=['accuracy'])\n"
   ]
  },
  {
   "cell_type": "markdown",
   "id": "f1fe756c",
   "metadata": {
    "papermill": {
     "duration": 0.009945,
     "end_time": "2025-07-27T03:17:10.455325",
     "exception": false,
     "start_time": "2025-07-27T03:17:10.445380",
     "status": "completed"
    },
    "tags": []
   },
   "source": [
    "Now we will train the model:"
   ]
  },
  {
   "cell_type": "code",
   "execution_count": 14,
   "id": "b4471528",
   "metadata": {
    "execution": {
     "iopub.execute_input": "2025-07-27T03:17:10.477561Z",
     "iopub.status.busy": "2025-07-27T03:17:10.476508Z",
     "iopub.status.idle": "2025-07-27T03:47:52.150894Z",
     "shell.execute_reply": "2025-07-27T03:47:52.150150Z"
    },
    "papermill": {
     "duration": 1841.687326,
     "end_time": "2025-07-27T03:47:52.152711",
     "exception": false,
     "start_time": "2025-07-27T03:17:10.465385",
     "status": "completed"
    },
    "tags": []
   },
   "outputs": [
    {
     "name": "stdout",
     "output_type": "stream",
     "text": [
      "Epoch 1/5\n",
      "\u001b[1m215/215\u001b[0m \u001b[32m━━━━━━━━━━━━━━━━━━━━\u001b[0m\u001b[37m\u001b[0m \u001b[1m373s\u001b[0m 2s/step - accuracy: 0.5809 - loss: 0.6832 - val_accuracy: 0.5341 - val_loss: 0.6951\n",
      "Epoch 2/5\n",
      "\u001b[1m215/215\u001b[0m \u001b[32m━━━━━━━━━━━━━━━━━━━━\u001b[0m\u001b[37m\u001b[0m \u001b[1m369s\u001b[0m 2s/step - accuracy: 0.5783 - loss: 0.6811 - val_accuracy: 0.5341 - val_loss: 0.6915\n",
      "Epoch 3/5\n",
      "\u001b[1m215/215\u001b[0m \u001b[32m━━━━━━━━━━━━━━━━━━━━\u001b[0m\u001b[37m\u001b[0m \u001b[1m367s\u001b[0m 2s/step - accuracy: 0.5708 - loss: 0.6841 - val_accuracy: 0.5341 - val_loss: 0.6947\n",
      "Epoch 4/5\n",
      "\u001b[1m215/215\u001b[0m \u001b[32m━━━━━━━━━━━━━━━━━━━━\u001b[0m\u001b[37m\u001b[0m \u001b[1m367s\u001b[0m 2s/step - accuracy: 0.5736 - loss: 0.6827 - val_accuracy: 0.5341 - val_loss: 0.6927\n",
      "Epoch 5/5\n",
      "\u001b[1m215/215\u001b[0m \u001b[32m━━━━━━━━━━━━━━━━━━━━\u001b[0m\u001b[37m\u001b[0m \u001b[1m366s\u001b[0m 2s/step - accuracy: 0.5735 - loss: 0.6836 - val_accuracy: 0.5341 - val_loss: 0.6924\n"
     ]
    }
   ],
   "source": [
    "# Train the model on the reshaped TF-IDF features with LSTM\n",
    "history = model.fit(\n",
    "    X_train_lstm,      # Input features reshaped for LSTM: shape (samples, timesteps, 1)\n",
    "    y_train,           # Target labels (binary: 0 or 1)\n",
    "    epochs=5,          # Number of times the model will see the entire training set\n",
    "    batch_size=32,     # Number of samples per gradient update\n",
    "    validation_split=0.1  # 10% of the training data will be used for validation\n",
    ")"
   ]
  },
  {
   "cell_type": "markdown",
   "id": "de80c425",
   "metadata": {
    "papermill": {
     "duration": 0.063672,
     "end_time": "2025-07-27T03:47:52.282033",
     "exception": false,
     "start_time": "2025-07-27T03:47:52.218361",
     "status": "completed"
    },
    "tags": []
   },
   "source": [
    "From the results above, we only see about a 56% accuracy with the base Sequential model with LSTM layer and TF-IDF to eliminate word order. Below is a graph of the training curves:"
   ]
  },
  {
   "cell_type": "code",
   "execution_count": 15,
   "id": "8abb504b",
   "metadata": {
    "execution": {
     "iopub.execute_input": "2025-07-27T03:47:52.410955Z",
     "iopub.status.busy": "2025-07-27T03:47:52.410598Z",
     "iopub.status.idle": "2025-07-27T03:47:52.622992Z",
     "shell.execute_reply": "2025-07-27T03:47:52.622104Z"
    },
    "papermill": {
     "duration": 0.278866,
     "end_time": "2025-07-27T03:47:52.624469",
     "exception": false,
     "start_time": "2025-07-27T03:47:52.345603",
     "status": "completed"
    },
    "tags": []
   },
   "outputs": [
    {
     "data": {
      "image/png": "[encoded data removed]",
      "text/plain": [
       "<Figure size 640x480 with 1 Axes>"
      ]
     },
     "metadata": {},
     "output_type": "display_data"
    }
   ],
   "source": [
    "# Import the plotting library\n",
    "import matplotlib.pyplot as plt\n",
    "\n",
    "# Plot training accuracy from the history object\n",
    "plt.plot(history.history['accuracy'], label='train')  # Accuracy on training data\n",
    "\n",
    "# Plot validation accuracy from the history object\n",
    "plt.plot(history.history['val_accuracy'], label='val')  # Accuracy on validation data\n",
    "\n",
    "# Set the title and axis labels\n",
    "plt.title('Base Model Accuracy')      # Title of the plot\n",
    "plt.xlabel('Epoch')                   # X-axis shows number of training epochs\n",
    "plt.ylabel('Accuracy')                # Y-axis shows accuracy score\n",
    "\n",
    "# Add a legend to distinguish between training and validation curves\n",
    "plt.legend()\n",
    "\n",
    "# Display the plot\n",
    "plt.show()\n"
   ]
  },
  {
   "cell_type": "markdown",
   "id": "c50ef9b8",
   "metadata": {
    "papermill": {
     "duration": 0.063235,
     "end_time": "2025-07-27T03:47:52.754385",
     "exception": false,
     "start_time": "2025-07-27T03:47:52.691150",
     "status": "completed"
    },
    "tags": []
   },
   "source": [
    "Here is the loss curve:"
   ]
  },
  {
   "cell_type": "code",
   "execution_count": 16,
   "id": "d9a2a723",
   "metadata": {
    "execution": {
     "iopub.execute_input": "2025-07-27T03:47:52.883682Z",
     "iopub.status.busy": "2025-07-27T03:47:52.883346Z",
     "iopub.status.idle": "2025-07-27T03:47:53.390269Z",
     "shell.execute_reply": "2025-07-27T03:47:53.389457Z"
    },
    "papermill": {
     "duration": 0.573252,
     "end_time": "2025-07-27T03:47:53.391765",
     "exception": false,
     "start_time": "2025-07-27T03:47:52.818513",
     "status": "completed"
    },
    "tags": []
   },
   "outputs": [
    {
     "data": {
      "image/png": "[encoded data removed]",
      "text/plain": [
       "<Figure size 640x480 with 1 Axes>"
      ]
     },
     "metadata": {},
     "output_type": "display_data"
    }
   ],
   "source": [
    "# Plot training loss over epochs\n",
    "plt.plot(history.history['loss'], label='train')       # Loss on training data\n",
    "# Plot validation loss over epochs\n",
    "plt.plot(history.history['val_loss'], label='val')     # Loss on validation data\n",
    "# Set the title of the plot\n",
    "plt.title('Model Loss')                                # Title for the plot\n",
    "# Label the X-axis as Epoch\n",
    "plt.xlabel('Epoch')                                     # X-axis shows training iterations\n",
    "# Label the Y-axis as Loss\n",
    "plt.ylabel('Loss')                                      # Y-axis shows the loss value\n",
    "# Add a legend to distinguish between training and validation loss\n",
    "plt.legend()\n",
    "# Display the plot\n",
    "plt.show()"
   ]
  },
  {
   "cell_type": "markdown",
   "id": "2704f750",
   "metadata": {
    "papermill": {
     "duration": 0.132,
     "end_time": "2025-07-27T03:47:53.591184",
     "exception": false,
     "start_time": "2025-07-27T03:47:53.459184",
     "status": "completed"
    },
    "tags": []
   },
   "source": [
    "## Results and Analysis \n",
    "\n",
    "We will run some hyperparamter tuning.\n",
    "\n",
    "1) We will change from the base model's Adam optimizer to RMSprop.\n"
   ]
  },
  {
   "cell_type": "code",
   "execution_count": 17,
   "id": "3b9ed2b2",
   "metadata": {
    "execution": {
     "iopub.execute_input": "2025-07-27T03:47:53.721047Z",
     "iopub.status.busy": "2025-07-27T03:47:53.720485Z",
     "iopub.status.idle": "2025-07-27T03:47:53.767964Z",
     "shell.execute_reply": "2025-07-27T03:47:53.766988Z"
    },
    "papermill": {
     "duration": 0.11374,
     "end_time": "2025-07-27T03:47:53.769683",
     "exception": false,
     "start_time": "2025-07-27T03:47:53.655943",
     "status": "completed"
    },
    "tags": []
   },
   "outputs": [],
   "source": [
    "from tensorflow.keras.optimizers import RMSprop\n",
    "\n",
    "# Reshape the TF-IDF data for LSTM input\n",
    "# LSTM requires input shape: (samples, timesteps, features)\n",
    "X_train_lstm = X_train_tfidf.reshape(X_train_tfidf.shape[0], X_train_tfidf.shape[1], 1)\n",
    "\n",
    "# Initialize a Sequential model\n",
    "model = Sequential()\n",
    "\n",
    "# Add an LSTM layer with 64 memory units\n",
    "# The input shape is (timesteps = number of TF-IDF features, features = 1)\n",
    "model.add(LSTM(64, input_shape=(X_train_lstm.shape[1], 1)))\n",
    "\n",
    "# Add a dropout layer to reduce overfitting\n",
    "model.add(Dropout(0.5))\n",
    "\n",
    "# Add a dense (fully connected) output layer with sigmoid activation for binary classification\n",
    "model.add(Dense(1, activation='sigmoid'))\n",
    "\n",
    "# Compile the model\n",
    "# - Loss function: binary_crossentropy (used for binary classification)\n",
    "# - Optimizer: RMSprop with learning rate 0.001 (often works well for RNNs/LSTMs)\n",
    "# - Metric: accuracy to monitor model performance\n",
    "model.compile(\n",
    "    loss='binary_crossentropy',\n",
    "    optimizer=RMSprop(learning_rate=0.001),\n",
    "    metrics=['accuracy']\n",
    ")\n"
   ]
  },
  {
   "cell_type": "markdown",
   "id": "f7c8beda",
   "metadata": {
    "papermill": {
     "duration": 0.062858,
     "end_time": "2025-07-27T03:47:53.895735",
     "exception": false,
     "start_time": "2025-07-27T03:47:53.832877",
     "status": "completed"
    },
    "tags": []
   },
   "source": [
    "Now we will train the model:"
   ]
  },
  {
   "cell_type": "code",
   "execution_count": 18,
   "id": "5d9de9ea",
   "metadata": {
    "execution": {
     "iopub.execute_input": "2025-07-27T03:47:54.022210Z",
     "iopub.status.busy": "2025-07-27T03:47:54.021414Z",
     "iopub.status.idle": "2025-07-27T04:22:13.422746Z",
     "shell.execute_reply": "2025-07-27T04:22:13.421731Z"
    },
    "papermill": {
     "duration": 2059.551917,
     "end_time": "2025-07-27T04:22:13.510025",
     "exception": false,
     "start_time": "2025-07-27T03:47:53.958108",
     "status": "completed"
    },
    "tags": []
   },
   "outputs": [
    {
     "name": "stdout",
     "output_type": "stream",
     "text": [
      "Epoch 1/5\n",
      "\u001b[1m215/215\u001b[0m \u001b[32m━━━━━━━━━━━━━━━━━━━━\u001b[0m\u001b[37m\u001b[0m \u001b[1m411s\u001b[0m 2s/step - accuracy: 0.5635 - loss: 0.6852 - val_accuracy: 0.5341 - val_loss: 0.6975\n",
      "Epoch 2/5\n",
      "\u001b[1m215/215\u001b[0m \u001b[32m━━━━━━━━━━━━━━━━━━━━\u001b[0m\u001b[37m\u001b[0m \u001b[1m410s\u001b[0m 2s/step - accuracy: 0.5746 - loss: 0.6831 - val_accuracy: 0.5341 - val_loss: 0.6919\n",
      "Epoch 3/5\n",
      "\u001b[1m215/215\u001b[0m \u001b[32m━━━━━━━━━━━━━━━━━━━━\u001b[0m\u001b[37m\u001b[0m \u001b[1m414s\u001b[0m 2s/step - accuracy: 0.5748 - loss: 0.6834 - val_accuracy: 0.5341 - val_loss: 0.6919\n",
      "Epoch 4/5\n",
      "\u001b[1m215/215\u001b[0m \u001b[32m━━━━━━━━━━━━━━━━━━━━\u001b[0m\u001b[37m\u001b[0m \u001b[1m413s\u001b[0m 2s/step - accuracy: 0.5748 - loss: 0.6831 - val_accuracy: 0.5341 - val_loss: 0.6930\n",
      "Epoch 5/5\n",
      "\u001b[1m215/215\u001b[0m \u001b[32m━━━━━━━━━━━━━━━━━━━━\u001b[0m\u001b[37m\u001b[0m \u001b[1m410s\u001b[0m 2s/step - accuracy: 0.5804 - loss: 0.6812 - val_accuracy: 0.5341 - val_loss: 0.6919\n"
     ]
    }
   ],
   "source": [
    "# Train the compiled LSTM model using training data\n",
    "history = model.fit(\n",
    "    X_train_lstm,     # Input data (reshaped TF-IDF vectors for LSTM): shape (samples, timesteps, 1)\n",
    "    y_train,          # Corresponding binary labels (0 or 1)\n",
    "    batch_size=32,    # Number of samples per gradient update (mini-batch)\n",
    "    epochs=5,         # Number of times the model iterates over the full dataset\n",
    "    validation_split=0.1  # 10% of training data used for validation to monitor generalization\n",
    ")"
   ]
  },
  {
   "cell_type": "markdown",
   "id": "67849f29",
   "metadata": {
    "papermill": {
     "duration": 0.115941,
     "end_time": "2025-07-27T04:22:13.743118",
     "exception": false,
     "start_time": "2025-07-27T04:22:13.627177",
     "status": "completed"
    },
    "tags": []
   },
   "source": [
    "From the results above, we still see about a 57% accuracy with the base Sequential model with LSTM layer and TF-IDF to eliminate word order. Below is a graph of the training curves:"
   ]
  },
  {
   "cell_type": "code",
   "execution_count": 19,
   "id": "2cd49c89",
   "metadata": {
    "execution": {
     "iopub.execute_input": "2025-07-27T04:22:13.974069Z",
     "iopub.status.busy": "2025-07-27T04:22:13.973488Z",
     "iopub.status.idle": "2025-07-27T04:22:14.187018Z",
     "shell.execute_reply": "2025-07-27T04:22:14.186149Z"
    },
    "papermill": {
     "duration": 0.330265,
     "end_time": "2025-07-27T04:22:14.188529",
     "exception": false,
     "start_time": "2025-07-27T04:22:13.858264",
     "status": "completed"
    },
    "tags": []
   },
   "outputs": [
    {
     "data": {
      "image/png": "[encoded data removed]",
      "text/plain": [
       "<Figure size 640x480 with 1 Axes>"
      ]
     },
     "metadata": {},
     "output_type": "display_data"
    }
   ],
   "source": [
    "# Import the plotting library\n",
    "import matplotlib.pyplot as plt\n",
    "\n",
    "# Plot training accuracy across epochs\n",
    "plt.plot(history.history['accuracy'], label='train')         # Accuracy on training data\n",
    "# Plot validation accuracy across epochs\n",
    "plt.plot(history.history['val_accuracy'], label='val')       # Accuracy on validation data\n",
    "# Set the title of the plot\n",
    "plt.title('RMSProp Model Accuracy')                          # Title reflects optimizer used\n",
    "# Label the x-axis as Epoch\n",
    "plt.xlabel('Epoch')                                          # Number of training iterations\n",
    "# Label the y-axis as Accuracy\n",
    "plt.ylabel('Accuracy')                                       # Accuracy score over epochs\n",
    "# Add a legend to identify the curves\n",
    "plt.legend()\n",
    "\n",
    "# Display the plot\n",
    "plt.show()\n"
   ]
  },
  {
   "cell_type": "markdown",
   "id": "c3be017c",
   "metadata": {
    "papermill": {
     "duration": 0.119199,
     "end_time": "2025-07-27T04:22:14.423418",
     "exception": false,
     "start_time": "2025-07-27T04:22:14.304219",
     "status": "completed"
    },
    "tags": []
   },
   "source": [
    "Here is the loss curve:"
   ]
  },
  {
   "cell_type": "code",
   "execution_count": 20,
   "id": "483f862e",
   "metadata": {
    "execution": {
     "iopub.execute_input": "2025-07-27T04:22:14.657820Z",
     "iopub.status.busy": "2025-07-27T04:22:14.657020Z",
     "iopub.status.idle": "2025-07-27T04:22:14.858314Z",
     "shell.execute_reply": "2025-07-27T04:22:14.857416Z"
    },
    "papermill": {
     "duration": 0.32045,
     "end_time": "2025-07-27T04:22:14.859862",
     "exception": false,
     "start_time": "2025-07-27T04:22:14.539412",
     "status": "completed"
    },
    "tags": []
   },
   "outputs": [
    {
     "data": {
      "image/png": "[encoded data removed]",
      "text/plain": [
       "<Figure size 640x480 with 1 Axes>"
      ]
     },
     "metadata": {},
     "output_type": "display_data"
    }
   ],
   "source": [
    "# Plot the training and validation loss over epochs\n",
    "plt.plot(history.history['loss'], label='train')       # Training loss\n",
    "plt.plot(history.history['val_loss'], label='val')     # Validation loss\n",
    "# Add a title to the plot\n",
    "plt.title('Model Loss')                                # Describes what the plot shows\n",
    "# Label the X-axis as number of epochs\n",
    "plt.xlabel('Epoch')                                   # Number of training cycles\n",
    "# Label the Y-axis as loss value\n",
    "plt.ylabel('Loss')                                    # Binary cross-entropy loss\n",
    "# Add a legend to distinguish between train and val curves\n",
    "plt.legend()\n",
    "# Display the plot\n",
    "plt.show()\n"
   ]
  },
  {
   "cell_type": "markdown",
   "id": "5b5c8a5e",
   "metadata": {
    "papermill": {
     "duration": 0.119592,
     "end_time": "2025-07-27T04:22:15.170088",
     "exception": false,
     "start_time": "2025-07-27T04:22:15.050496",
     "status": "completed"
    },
    "tags": []
   },
   "source": [
    "From the results above, this is slightly better than the base model at 57% accuracy."
   ]
  },
  {
   "cell_type": "markdown",
   "id": "9347999b",
   "metadata": {
    "papermill": {
     "duration": 0.117788,
     "end_time": "2025-07-27T04:22:15.404901",
     "exception": false,
     "start_time": "2025-07-27T04:22:15.287113",
     "status": "completed"
    },
    "tags": []
   },
   "source": [
    "2) We will lower the dropout rate from 0.5 to 0.3"
   ]
  },
  {
   "cell_type": "code",
   "execution_count": 21,
   "id": "1de14141",
   "metadata": {
    "execution": {
     "iopub.execute_input": "2025-07-27T04:22:15.640368Z",
     "iopub.status.busy": "2025-07-27T04:22:15.640033Z",
     "iopub.status.idle": "2025-07-27T04:22:15.690571Z",
     "shell.execute_reply": "2025-07-27T04:22:15.689703Z"
    },
    "papermill": {
     "duration": 0.171692,
     "end_time": "2025-07-27T04:22:15.692131",
     "exception": false,
     "start_time": "2025-07-27T04:22:15.520439",
     "status": "completed"
    },
    "tags": []
   },
   "outputs": [],
   "source": [
    "import numpy as np\n",
    "import tensorflow as tf\n",
    "from tensorflow.keras.models import Sequential\n",
    "from tensorflow.keras.layers import Dense, Dropout, LSTM\n",
    "\n",
    "# Reshape TF-IDF data to be 3D for LSTM input\n",
    "# Shape required: (samples, timesteps, features)\n",
    "X_train_lstm = X_train_tfidf.reshape(X_train_tfidf.shape[0], X_train_tfidf.shape[1], 1)\n",
    "\n",
    "# Initialize a sequential model\n",
    "model = Sequential()\n",
    "\n",
    "# Add LSTM layer with 64 units\n",
    "# input_shape = (timesteps = number of TF-IDF features, features = 1)\n",
    "model.add(LSTM(64, input_shape=(X_train_lstm.shape[1], 1)))\n",
    "\n",
    "# Add dropout layer to prevent overfitting\n",
    "model.add(Dropout(0.3))  # Drops 30% of neurons randomly during training\n",
    "\n",
    "# Add a dense output layer with sigmoid activation for binary classification\n",
    "model.add(Dense(1, activation='sigmoid'))\n",
    "\n",
    "# Compile the model\n",
    "# - Loss: binary_crossentropy for binary classification\n",
    "# - Optimizer: Adam, a widely used adaptive optimizer\n",
    "# - Metric: Accuracy to track model performance\n",
    "model.compile(\n",
    "    loss='binary_crossentropy',\n",
    "    optimizer='adam',\n",
    "    metrics=['accuracy']\n",
    ")\n"
   ]
  },
  {
   "cell_type": "markdown",
   "id": "27cad0b3",
   "metadata": {
    "papermill": {
     "duration": 0.116123,
     "end_time": "2025-07-27T04:22:15.923672",
     "exception": false,
     "start_time": "2025-07-27T04:22:15.807549",
     "status": "completed"
    },
    "tags": []
   },
   "source": [
    "Now we will train the model:"
   ]
  },
  {
   "cell_type": "code",
   "execution_count": 22,
   "id": "32e5baef",
   "metadata": {
    "execution": {
     "iopub.execute_input": "2025-07-27T04:22:16.155339Z",
     "iopub.status.busy": "2025-07-27T04:22:16.154823Z",
     "iopub.status.idle": "2025-07-27T04:52:39.515390Z",
     "shell.execute_reply": "2025-07-27T04:52:39.514128Z"
    },
    "papermill": {
     "duration": 1823.478881,
     "end_time": "2025-07-27T04:52:39.518024",
     "exception": false,
     "start_time": "2025-07-27T04:22:16.039143",
     "status": "completed"
    },
    "tags": []
   },
   "outputs": [
    {
     "name": "stdout",
     "output_type": "stream",
     "text": [
      "Epoch 1/5\n",
      "\u001b[1m215/215\u001b[0m \u001b[32m━━━━━━━━━━━━━━━━━━━━\u001b[0m\u001b[37m\u001b[0m \u001b[1m367s\u001b[0m 2s/step - accuracy: 0.5750 - loss: 0.6870 - val_accuracy: 0.5341 - val_loss: 0.6935\n",
      "Epoch 2/5\n",
      "\u001b[1m215/215\u001b[0m \u001b[32m━━━━━━━━━━━━━━━━━━━━\u001b[0m\u001b[37m\u001b[0m \u001b[1m365s\u001b[0m 2s/step - accuracy: 0.5728 - loss: 0.6829 - val_accuracy: 0.5341 - val_loss: 0.6935\n",
      "Epoch 3/5\n",
      "\u001b[1m215/215\u001b[0m \u001b[32m━━━━━━━━━━━━━━━━━━━━\u001b[0m\u001b[37m\u001b[0m \u001b[1m365s\u001b[0m 2s/step - accuracy: 0.5821 - loss: 0.6805 - val_accuracy: 0.5341 - val_loss: 0.6919\n",
      "Epoch 4/5\n",
      "\u001b[1m215/215\u001b[0m \u001b[32m━━━━━━━━━━━━━━━━━━━━\u001b[0m\u001b[37m\u001b[0m \u001b[1m363s\u001b[0m 2s/step - accuracy: 0.5725 - loss: 0.6829 - val_accuracy: 0.5341 - val_loss: 0.6950\n",
      "Epoch 5/5\n",
      "\u001b[1m215/215\u001b[0m \u001b[32m━━━━━━━━━━━━━━━━━━━━\u001b[0m\u001b[37m\u001b[0m \u001b[1m363s\u001b[0m 2s/step - accuracy: 0.5840 - loss: 0.6794 - val_accuracy: 0.5341 - val_loss: 0.6914\n"
     ]
    }
   ],
   "source": [
    "# Train the LSTM model\n",
    "history = model.fit(\n",
    "    X_train_lstm,     # Input data (reshaped TF-IDF vectors for LSTM)\n",
    "    y_train,          # Target labels (0 or 1 for binary classification)\n",
    "    epochs=5,         # Number of full passes through the training data\n",
    "    batch_size=32,    # Number of samples processed before updating the model\n",
    "    validation_split=0.1  # 10% of training data used for validation\n",
    ")"
   ]
  },
  {
   "cell_type": "markdown",
   "id": "0e5b87d8",
   "metadata": {
    "papermill": {
     "duration": 0.168144,
     "end_time": "2025-07-27T04:52:39.871056",
     "exception": false,
     "start_time": "2025-07-27T04:52:39.702912",
     "status": "completed"
    },
    "tags": []
   },
   "source": [
    "Here is the accuracy and loss charts:"
   ]
  },
  {
   "cell_type": "code",
   "execution_count": 23,
   "id": "45716ff0",
   "metadata": {
    "execution": {
     "iopub.execute_input": "2025-07-27T04:52:40.288756Z",
     "iopub.status.busy": "2025-07-27T04:52:40.288430Z",
     "iopub.status.idle": "2025-07-27T04:52:40.502290Z",
     "shell.execute_reply": "2025-07-27T04:52:40.501351Z"
    },
    "papermill": {
     "duration": 0.46372,
     "end_time": "2025-07-27T04:52:40.503701",
     "exception": false,
     "start_time": "2025-07-27T04:52:40.039981",
     "status": "completed"
    },
    "tags": []
   },
   "outputs": [
    {
     "data": {
      "image/png": "[encoded data removed]",
      "text/plain": [
       "<Figure size 640x480 with 1 Axes>"
      ]
     },
     "metadata": {},
     "output_type": "display_data"
    }
   ],
   "source": [
    "import matplotlib.pyplot as plt\n",
    "\n",
    "# Plot training accuracy across epochs\n",
    "plt.plot(history.history['accuracy'], label='train')        # Accuracy on training data\n",
    "# Plot validation accuracy across epochs\n",
    "plt.plot(history.history['val_accuracy'], label='val')      # Accuracy on validation data\n",
    "# Add a descriptive title indicating the experiment setup\n",
    "plt.title('Lower Dropout Model Accuracy')                   # Reflects that dropout was reduced\n",
    "# Label the x-axis to indicate training epochs\n",
    "plt.xlabel('Epoch')\n",
    "# Label the y-axis to show accuracy score\n",
    "plt.ylabel('Accuracy')\n",
    "# Add legend to differentiate train vs. validation accuracy\n",
    "plt.legend()\n",
    "\n",
    "# Show the accuracy plot\n",
    "plt.show()\n"
   ]
  },
  {
   "cell_type": "code",
   "execution_count": 24,
   "id": "1207cb1e",
   "metadata": {
    "execution": {
     "iopub.execute_input": "2025-07-27T04:52:40.848933Z",
     "iopub.status.busy": "2025-07-27T04:52:40.848616Z",
     "iopub.status.idle": "2025-07-27T04:52:41.044938Z",
     "shell.execute_reply": "2025-07-27T04:52:41.044098Z"
    },
    "papermill": {
     "duration": 0.371103,
     "end_time": "2025-07-27T04:52:41.046367",
     "exception": false,
     "start_time": "2025-07-27T04:52:40.675264",
     "status": "completed"
    },
    "tags": []
   },
   "outputs": [
    {
     "data": {
      "image/png": "[encoded data removed]",
      "text/plain": [
       "<Figure size 640x480 with 1 Axes>"
      ]
     },
     "metadata": {},
     "output_type": "display_data"
    }
   ],
   "source": [
    "# Plot the training loss from the history object\n",
    "plt.plot(history.history['loss'], label='train')\n",
    "# Plot the validation loss from the history object\n",
    "plt.plot(history.history['val_loss'], label='val')\n",
    "# Set the title of the plot\n",
    "plt.title('Model Loss')\n",
    "# Label the x-axis as 'Epoch' since the horizontal axis represents the number of training epochs\n",
    "plt.xlabel('Epoch')\n",
    "# Label the y-axis as 'Loss' since the vertical axis represents the loss values\n",
    "plt.ylabel('Loss')\n",
    "# Add a legend to distinguish between training and validation loss lines\n",
    "plt.legend()\n",
    "\n",
    "# Display the plot\n",
    "plt.show()\n"
   ]
  },
  {
   "cell_type": "markdown",
   "id": "976d8869",
   "metadata": {
    "papermill": {
     "duration": 0.17199,
     "end_time": "2025-07-27T04:52:41.390446",
     "exception": false,
     "start_time": "2025-07-27T04:52:41.218456",
     "status": "completed"
    },
    "tags": []
   },
   "source": [
    "From the results above, we can see changing the dropout rate from 0.5 to 0.3 slight increased the accuracy to 58%."
   ]
  },
  {
   "cell_type": "markdown",
   "id": "d170b63c",
   "metadata": {
    "papermill": {
     "duration": 0.169372,
     "end_time": "2025-07-27T04:52:41.731400",
     "exception": false,
     "start_time": "2025-07-27T04:52:41.562028",
     "status": "completed"
    },
    "tags": []
   },
   "source": [
    "3) We will now try to use bidirection LTSM and see if this improves the model:"
   ]
  },
  {
   "cell_type": "code",
   "execution_count": 25,
   "id": "cfbedde2",
   "metadata": {
    "execution": {
     "iopub.execute_input": "2025-07-27T04:52:42.075461Z",
     "iopub.status.busy": "2025-07-27T04:52:42.074789Z",
     "iopub.status.idle": "2025-07-27T04:52:42.106063Z",
     "shell.execute_reply": "2025-07-27T04:52:42.105204Z"
    },
    "papermill": {
     "duration": 0.204862,
     "end_time": "2025-07-27T04:52:42.107726",
     "exception": false,
     "start_time": "2025-07-27T04:52:41.902864",
     "status": "completed"
    },
    "tags": []
   },
   "outputs": [],
   "source": [
    "from tensorflow.keras.models import Sequential  # Import Sequential model type\n",
    "from tensorflow.keras.layers import Embedding, LSTM, Dense, Dropout, Bidirectional  # Import layers\n",
    "from tensorflow.keras.optimizers import Adam  # Import Adam optimizer\n",
    "\n",
    "# Reshape the training data to fit LSTM input requirements:\n",
    "# LSTM expects 3D input: (samples, timesteps, features)\n",
    "# Here, each sample's feature vector is reshaped to have a single feature dimension.\n",
    "X_train_lstm = X_train_tfidf.reshape(X_train_tfidf.shape[0], X_train_tfidf.shape[1], 1)\n",
    "# Initialize a Sequential model\n",
    "model = Sequential()\n",
    "# Add a Bidirectional LSTM layer with 128 units\n",
    "# return_sequences=False means output will be the last output in the output sequence\n",
    "model.add(Bidirectional(LSTM(128, return_sequences=False)))\n",
    "# Add Dropout layer to reduce overfitting by randomly setting 50% of inputs to 0 during training\n",
    "model.add(Dropout(0.5))\n",
    "# Add a Dense output layer with 1 unit and sigmoid activation for binary classification\n",
    "model.add(Dense(1, activation='sigmoid'))\n",
    "# Compile the model with binary crossentropy loss, Adam optimizer, and accuracy metric\n",
    "model.compile(loss='binary_crossentropy', optimizer='adam', metrics=['accuracy'])\n"
   ]
  },
  {
   "cell_type": "markdown",
   "id": "a6919c11",
   "metadata": {
    "papermill": {
     "duration": 0.173106,
     "end_time": "2025-07-27T04:52:42.450843",
     "exception": false,
     "start_time": "2025-07-27T04:52:42.277737",
     "status": "completed"
    },
    "tags": []
   },
   "source": [
    "Now we will train the model:"
   ]
  },
  {
   "cell_type": "code",
   "execution_count": 26,
   "id": "5e4fbaa6",
   "metadata": {
    "execution": {
     "iopub.execute_input": "2025-07-27T04:52:42.792872Z",
     "iopub.status.busy": "2025-07-27T04:52:42.792235Z",
     "iopub.status.idle": "2025-07-27T06:12:19.568132Z",
     "shell.execute_reply": "2025-07-27T06:12:19.567057Z"
    },
    "papermill": {
     "duration": 4777.153201,
     "end_time": "2025-07-27T06:12:19.774044",
     "exception": false,
     "start_time": "2025-07-27T04:52:42.620843",
     "status": "completed"
    },
    "tags": []
   },
   "outputs": [
    {
     "name": "stdout",
     "output_type": "stream",
     "text": [
      "Epoch 1/5\n",
      "\u001b[1m215/215\u001b[0m \u001b[32m━━━━━━━━━━━━━━━━━━━━\u001b[0m\u001b[37m\u001b[0m \u001b[1m963s\u001b[0m 4s/step - accuracy: 0.5570 - loss: 0.6863 - val_accuracy: 0.5341 - val_loss: 0.6943\n",
      "Epoch 2/5\n",
      "\u001b[1m215/215\u001b[0m \u001b[32m━━━━━━━━━━━━━━━━━━━━\u001b[0m\u001b[37m\u001b[0m \u001b[1m948s\u001b[0m 4s/step - accuracy: 0.5703 - loss: 0.6847 - val_accuracy: 0.5341 - val_loss: 0.6914\n",
      "Epoch 3/5\n",
      "\u001b[1m215/215\u001b[0m \u001b[32m━━━━━━━━━━━━━━━━━━━━\u001b[0m\u001b[37m\u001b[0m \u001b[1m951s\u001b[0m 4s/step - accuracy: 0.5709 - loss: 0.6840 - val_accuracy: 0.5341 - val_loss: 0.6939\n",
      "Epoch 4/5\n",
      "\u001b[1m215/215\u001b[0m \u001b[32m━━━━━━━━━━━━━━━━━━━━\u001b[0m\u001b[37m\u001b[0m \u001b[1m955s\u001b[0m 4s/step - accuracy: 0.5783 - loss: 0.6823 - val_accuracy: 0.5341 - val_loss: 0.6916\n",
      "Epoch 5/5\n",
      "\u001b[1m215/215\u001b[0m \u001b[32m━━━━━━━━━━━━━━━━━━━━\u001b[0m\u001b[37m\u001b[0m \u001b[1m959s\u001b[0m 4s/step - accuracy: 0.5809 - loss: 0.6811 - val_accuracy: 0.5341 - val_loss: 0.6919\n"
     ]
    }
   ],
   "source": [
    "history = model.fit(\n",
    "    X_train_lstm,\n",
    "    y_train,\n",
    "    epochs=5,\n",
    "    batch_size=32,\n",
    "    validation_split=0.1\n",
    ")"
   ]
  },
  {
   "cell_type": "markdown",
   "id": "d63a5ccd",
   "metadata": {
    "papermill": {
     "duration": 0.22555,
     "end_time": "2025-07-27T06:12:20.229759",
     "exception": false,
     "start_time": "2025-07-27T06:12:20.004209",
     "status": "completed"
    },
    "tags": []
   },
   "source": [
    "Here is the accuracy and loss charts:"
   ]
  },
  {
   "cell_type": "code",
   "execution_count": 27,
   "id": "9a201311",
   "metadata": {
    "execution": {
     "iopub.execute_input": "2025-07-27T06:12:20.676869Z",
     "iopub.status.busy": "2025-07-27T06:12:20.676545Z",
     "iopub.status.idle": "2025-07-27T06:12:20.911737Z",
     "shell.execute_reply": "2025-07-27T06:12:20.910809Z"
    },
    "papermill": {
     "duration": 0.461214,
     "end_time": "2025-07-27T06:12:20.913077",
     "exception": false,
     "start_time": "2025-07-27T06:12:20.451863",
     "status": "completed"
    },
    "tags": []
   },
   "outputs": [
    {
     "data": {
      "image/png": "[encoded data removed]",
      "text/plain": [
       "<Figure size 640x480 with 1 Axes>"
      ]
     },
     "metadata": {},
     "output_type": "display_data"
    }
   ],
   "source": [
    "import matplotlib.pyplot as plt  # Import the plotting library\n",
    "\n",
    "# Plot the training accuracy stored in history.history['accuracy']\n",
    "plt.plot(history.history['accuracy'], label='train')\n",
    "# Plot the validation accuracy stored in history.history['val_accuracy']\n",
    "plt.plot(history.history['val_accuracy'], label='val')\n",
    "# Set the title of the plot to indicate it's for the Bidirectional LSTM Model accuracy\n",
    "plt.title('Bidirectional LSTM Model Accuracy')\n",
    "# Label the x-axis as 'Epoch' since it represents training epochs\n",
    "plt.xlabel('Epoch')\n",
    "# Label the y-axis as 'Accuracy' since the y-axis shows accuracy values\n",
    "plt.ylabel('Accuracy')\n",
    "# Add a legend to distinguish between training and validation accuracy lines\n",
    "plt.legend()\n",
    "\n",
    "# Display the plot\n",
    "plt.show()\n"
   ]
  },
  {
   "cell_type": "code",
   "execution_count": 28,
   "id": "712b9b36",
   "metadata": {
    "execution": {
     "iopub.execute_input": "2025-07-27T06:12:21.369247Z",
     "iopub.status.busy": "2025-07-27T06:12:21.368900Z",
     "iopub.status.idle": "2025-07-27T06:12:21.562919Z",
     "shell.execute_reply": "2025-07-27T06:12:21.562053Z"
    },
    "papermill": {
     "duration": 0.423931,
     "end_time": "2025-07-27T06:12:21.564264",
     "exception": false,
     "start_time": "2025-07-27T06:12:21.140333",
     "status": "completed"
    },
    "tags": []
   },
   "outputs": [
    {
     "data": {
      "image/png": "[encoded data removed]",
      "text/plain": [
       "<Figure size 640x480 with 1 Axes>"
      ]
     },
     "metadata": {},
     "output_type": "display_data"
    }
   ],
   "source": [
    "# Plot the training loss values stored in history.history['loss']\n",
    "plt.plot(history.history['loss'], label='train')\n",
    "# Plot the validation loss values stored in history.history['val_loss']\n",
    "plt.plot(history.history['val_loss'], label='val')\n",
    "# Set the title of the plot\n",
    "plt.title('Model Loss')\n",
    "# Label the x-axis as 'Epoch' since the x-axis represents training epochs\n",
    "plt.xlabel('Epoch')\n",
    "# Label the y-axis as 'Loss' since we are plotting loss values\n",
    "plt.ylabel('Loss')\n",
    "# Display a legend to differentiate between training and validation loss lines\n",
    "plt.legend()\n",
    "# Show the plot\n",
    "plt.show()\n"
   ]
  },
  {
   "cell_type": "markdown",
   "id": "3f39f293",
   "metadata": {
    "papermill": {
     "duration": 0.312041,
     "end_time": "2025-07-27T06:12:22.104297",
     "exception": false,
     "start_time": "2025-07-27T06:12:21.792256",
     "status": "completed"
    },
    "tags": []
   },
   "source": [
    "We can see the bidirecitonal LTSM increases the accuracy by 1% to 57% compared to base model."
   ]
  },
  {
   "cell_type": "markdown",
   "id": "e829ce4d",
   "metadata": {
    "papermill": {
     "duration": 0.225354,
     "end_time": "2025-07-27T06:12:22.553500",
     "exception": false,
     "start_time": "2025-07-27T06:12:22.328146",
     "status": "completed"
    },
    "tags": []
   },
   "source": [
    "Compared to unidirectional LSTM, bidirectional LSTM delivered better validation accuracy by capturing more nuanced contextual relationships. \n",
    "A higher dropout rate of 0.5 outperformed 0.3, mitigating overfitting and yielding noticeable gains in early epochs. \n",
    "For this problem, Adam optimizer proved superior to RMSProp, converging faster and maintaining greater stability.\n",
    "In summary, the 3 hyperparameter tunings that we tried only slightly increased the accuracy by 1-2% from the base model."
   ]
  },
  {
   "cell_type": "markdown",
   "id": "bc62cf41",
   "metadata": {
    "papermill": {
     "duration": 0.229412,
     "end_time": "2025-07-27T06:12:23.008533",
     "exception": false,
     "start_time": "2025-07-27T06:12:22.779121",
     "status": "completed"
    },
    "tags": []
   },
   "source": [
    "## Conclusion\n",
    "\n",
    "The implementation of LSTM and Bidirectional LSTM slightly enhanced model performance over simpler architectures by effectively retaining sequential information. The Bidirectional LSTM further improved results by learning context in both forward and backward directions, which was essential for accurately interpreting tweet sentiment and disaster-related language. To combat overfitting while maintaining validation performance, regularization was applied using Dropout with a rate of 0.5 on the base model. This approach prevented a sharp decline in accuracy between training and validation phases, unlike models with no or lower dropout at 0.3. In terms of optimizers, Adam was preferred over RMSProp due to its faster convergence and superior overall accuracy. Conversely, RMSProp exhibited slightly slower convergence and marginally lower performance.\n",
    "\n",
    "Future experiments could boost performance by exploring several options:\n",
    "- Fine-tuning or making GloVe embeddings trainable to capture more context-specific meanings.\n",
    "- Adding attention mechanisms to help the model prioritize key words in tweets.\n",
    "- Leveraging Transformers or BERT, which are particularly effective at grasping nuanced language and short texts.\n",
    "- Utilizing hyperparameter tuning libraries like Optuna or Keras Tuner for a more systematic search of optimal settings."
   ]
  },
  {
   "cell_type": "markdown",
   "id": "7c3e058a",
   "metadata": {
    "papermill": {
     "duration": 0.224248,
     "end_time": "2025-07-27T06:12:23.457958",
     "exception": false,
     "start_time": "2025-07-27T06:12:23.233710",
     "status": "completed"
    },
    "tags": []
   },
   "source": [
    "## References\n",
    "\n",
    "Kaggle Competition - Natural Language Processing with Disaster Tweets\n",
    "https://www.kaggle.com/competitions/nlp-getting-started\n",
    "\n",
    "Scikit-learn Documentation - TfidfVectorizer\n",
    "https://scikit-learn.org/stable/modules/generated/sklearn.feature_extraction.text.TfidfVectorizer.html\n",
    "\n",
    "TensorFlow Keras - LSTM Layer\n",
    "https://www.tensorflow.org/api_docs/python/tf/keras/layers/LSTM\n",
    "\n",
    "TensorFlow Keras - Sequential Model API\n",
    "https://www.tensorflow.org/api_docs/python/tf/keras/Sequential\n",
    "\n",
    "NLTK - Stopwords\n",
    "https://www.nltk.org/nltk_data/#stopwords\n",
    "\n",
    "François Chollet. Deep Learning with Python, 2nd Edition (2021)\n",
    "https://www.manning.com/books/deep-learning-with-python-second-edition\n"
   ]
  },
  {
   "cell_type": "code",
   "execution_count": null,
   "id": "2e43d67b",
   "metadata": {
    "papermill": {
     "duration": 0.224299,
     "end_time": "2025-07-27T06:12:23.905546",
     "exception": false,
     "start_time": "2025-07-27T06:12:23.681247",
     "status": "completed"
    },
    "tags": []
   },
   "outputs": [],
   "source": []
  }
 ],
 "metadata": {
  "kaggle": {
   "accelerator": "none",
   "dataSources": [
    {
     "databundleVersionId": 869809,
     "sourceId": 17777,
     "sourceType": "competition"
    }
   ],
   "dockerImageVersionId": 31089,
   "isGpuEnabled": false,
   "isInternetEnabled": false,
   "language": "python",
   "sourceType": "notebook"
  },
  "kernelspec": {
   "display_name": "Python 3",
   "language": "python",
   "name": "python3"
  },
  "language_info": {
   "codemirror_mode": {
    "name": "ipython",
    "version": 3
   },
   "file_extension": ".py",
   "mimetype": "text/x-python",
   "name": "python",
   "nbconvert_exporter": "python",
   "pygments_lexer": "ipython3",
   "version": "3.11.13"
  },
  "papermill": {
   "default_parameters": {},
   "duration": 10545.644476,
   "end_time": "2025-07-27T06:12:27.902111",
   "environment_variables": {},
   "exception": null,
   "input_path": "__notebook__.ipynb",
   "output_path": "__notebook__.ipynb",
   "parameters": {},
   "start_time": "2025-07-27T03:16:42.257635",
   "version": "2.6.0"
  }
 },
 "nbformat": 4,
 "nbformat_minor": 5
}
